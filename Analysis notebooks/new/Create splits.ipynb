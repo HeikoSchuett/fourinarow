{
 "cells": [
  {
   "cell_type": "code",
   "execution_count": 1,
   "metadata": {},
   "outputs": [],
   "source": [
    "import numpy as np\n",
    "import pandas as pd\n",
    "import json\n",
    "from collections import defaultdict\n",
    "import matplotlib.pyplot as plt\n",
    "import matplotlib.patches as patches\n",
    "import os"
   ]
  },
  {
   "cell_type": "code",
   "execution_count": 2,
   "metadata": {},
   "outputs": [],
   "source": [
    "direc = 'C:/Users/svo/Documents/FourinarowData/Data/peak/'"
   ]
  },
  {
   "cell_type": "code",
   "execution_count": 3,
   "metadata": {},
   "outputs": [],
   "source": [
    "if not os.path.exists(direc + 'splits/'):\n",
    "    os.mkdir(direc + 'splits/')\n",
    "for i,f in enumerate([f for f in os.listdir(direc + 'raw/') if f.endswith('.csv')]):\n",
    "    df = pd.read_csv(direc + 'raw/' + f,header=None,delim_whitespace=True,names=['bp','wp','color','move','rt','participant_id'])\n",
    "    df['color'] = df['color'].str.upper()\n",
    "    df.insert(loc=5,column='group',value=(5*(np.random.permutation(len(df))/len(df))).astype(int)+1)\n",
    "    if not os.path.exists(direc + 'splits/' + str(i+1)):\n",
    "        os.mkdir(direc + 'splits/' + str(i+1))\n",
    "    with open(direc + 'splits/' + str(i+1) + '/data.csv','w') as f:\n",
    "        f.write(df.to_csv(None, index = False, header=False,sep='\\t',line_terminator ='\\n')[:-1])\n",
    "    for g in range(1,6):\n",
    "        with open(direc + 'splits/' + str(i+1) + '/' + str(g) + '.csv','w') as f:\n",
    "            f.write(df[df['group']==g].to_csv(None, index = False, header=False,sep='\\t',line_terminator ='\\n')[:-1])"
   ]
  }
 ],
 "metadata": {
  "kernelspec": {
   "display_name": "Python 3",
   "language": "python",
   "name": "python3"
  },
  "language_info": {
   "codemirror_mode": {
    "name": "ipython",
    "version": 3
   },
   "file_extension": ".py",
   "mimetype": "text/x-python",
   "name": "python",
   "nbconvert_exporter": "python",
   "pygments_lexer": "ipython3",
   "version": "3.7.4"
  }
 },
 "nbformat": 4,
 "nbformat_minor": 4
}
